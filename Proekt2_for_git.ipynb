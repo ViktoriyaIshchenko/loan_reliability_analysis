{
 "cells": [
  {
   "cell_type": "markdown",
   "id": "b6fa2fed-50e0-4d9a-b895-1c3304e40699",
   "metadata": {},
   "source": [
    "# Исследование надежности заемщиков\n",
    "\n",
    "## Описание проекта\n",
    "\n",
    "Заказчик — кредитный отдел банка. Нужно разобраться, влияет ли семейное положение и количество детей клиента на факт погашения кредита в срок. Входные данные от банка — статистика о платёжеспособности клиентов.\n",
    "Результаты исследования будут учтены при построении модели кредитного скоринга — специальной системы, которая оценивает способность потенциального заёмщика вернуть кредит банку.\n",
    "\n",
    "## Описание данных\n",
    "\n",
    "`children` — количество детей в семье\n",
    "\n",
    "`days_employed` — общий трудовой стаж в днях\n",
    "\n",
    "`dob_years` — возраст клиента в годах\n",
    "\n",
    "`education` — уровень образования клиента\n",
    "\n",
    "`education_id` — идентификатор уровня образования\n",
    "\n",
    "`family_status` — семейное положение\n",
    "\n",
    "`family_status_id` — идентификатор семейного положения\n",
    "\n",
    "`gender` — пол клиента\n",
    "\n",
    "`income_type` — тип занятости\n",
    "\n",
    "`debt` — имел ли задолженность по возврату кредитов\n",
    "\n",
    "`total_income` — ежемесячный доход\n",
    "\n",
    "`purpose` — цель получения кредита\n",
    "\n",
    "\n",
    "\n",
    "**Задание 1. Импортируйте библиотеку pandas. Считайте данные из csv-файла в датафрейм и сохраните в переменную `data`. Путь к файлу:** `/Users/fen1x/Downloads/data.csv`"
   ]
  },
  {
   "cell_type": "code",
   "execution_count": 90,
   "id": "640c616d-402a-4287-b06f-2408c7d45e19",
   "metadata": {},
   "outputs": [],
   "source": [
    "# импортируйте библиотеку pandas\n",
    "import pandas as pd\n",
    "\n",
    "# прочитайте csv-файл\n",
    "try:\n",
    "    data = pd.read_csv('/datasets/data.csv')\n",
    "except:\n",
    "    data = pd.read_csv('/Users/fen1x/Downloads/data.csv')"
   ]
  },
  {
   "cell_type": "markdown",
   "id": "8a2cbf41-581f-4d89-b1db-874520106077",
   "metadata": {},
   "source": [
    "**Задание 2. Выведите первые 20 строчек датафрейма `data` на экран.**\n"
   ]
  },
  {
   "cell_type": "code",
   "execution_count": 91,
   "id": "eb867fbc-8199-41c9-b510-1fbe230cea5e",
   "metadata": {
    "tags": []
   },
   "outputs": [
    {
     "name": "stdout",
     "output_type": "stream",
     "text": [
      "    children  days_employed  dob_years            education  education_id  \\\n",
      "0          1   -8437.673028         42               высшее             0   \n",
      "1          1   -4024.803754         36              среднее             1   \n",
      "2          0   -5623.422610         33              Среднее             1   \n",
      "3          3   -4124.747207         32              среднее             1   \n",
      "4          0  340266.072047         53              среднее             1   \n",
      "5          0    -926.185831         27               высшее             0   \n",
      "6          0   -2879.202052         43               высшее             0   \n",
      "7          0    -152.779569         50              СРЕДНЕЕ             1   \n",
      "8          2   -6929.865299         35               ВЫСШЕЕ             0   \n",
      "9          0   -2188.756445         41              среднее             1   \n",
      "10         2   -4171.483647         36               высшее             0   \n",
      "11         0    -792.701887         40              среднее             1   \n",
      "12         0            NaN         65              среднее             1   \n",
      "13         0   -1846.641941         54  неоконченное высшее             2   \n",
      "14         0   -1844.956182         56               высшее             0   \n",
      "15         1    -972.364419         26              среднее             1   \n",
      "16         0   -1719.934226         35              среднее             1   \n",
      "17         0   -2369.999720         33               высшее             0   \n",
      "18         0  400281.136913         53              среднее             1   \n",
      "19         0  -10038.818549         48              СРЕДНЕЕ             1   \n",
      "\n",
      "       family_status  family_status_id gender income_type  debt  \\\n",
      "0    женат / замужем                 0      F   сотрудник     0   \n",
      "1    женат / замужем                 0      F   сотрудник     0   \n",
      "2    женат / замужем                 0      M   сотрудник     0   \n",
      "3    женат / замужем                 0      M   сотрудник     0   \n",
      "4   гражданский брак                 1      F   пенсионер     0   \n",
      "5   гражданский брак                 1      M   компаньон     0   \n",
      "6    женат / замужем                 0      F   компаньон     0   \n",
      "7    женат / замужем                 0      M   сотрудник     0   \n",
      "8   гражданский брак                 1      F   сотрудник     0   \n",
      "9    женат / замужем                 0      M   сотрудник     0   \n",
      "10   женат / замужем                 0      M   компаньон     0   \n",
      "11   женат / замужем                 0      F   сотрудник     0   \n",
      "12  гражданский брак                 1      M   пенсионер     0   \n",
      "13   женат / замужем                 0      F   сотрудник     0   \n",
      "14  гражданский брак                 1      F   компаньон     1   \n",
      "15   женат / замужем                 0      F   сотрудник     0   \n",
      "16   женат / замужем                 0      F   сотрудник     0   \n",
      "17  гражданский брак                 1      M   сотрудник     0   \n",
      "18    вдовец / вдова                 2      F   пенсионер     0   \n",
      "19         в разводе                 3      F   сотрудник     0   \n",
      "\n",
      "     total_income                                 purpose  \n",
      "0   253875.639453                           покупка жилья  \n",
      "1   112080.014102                 приобретение автомобиля  \n",
      "2   145885.952297                           покупка жилья  \n",
      "3   267628.550329              дополнительное образование  \n",
      "4   158616.077870                         сыграть свадьбу  \n",
      "5   255763.565419                           покупка жилья  \n",
      "6   240525.971920                       операции с жильем  \n",
      "7   135823.934197                             образование  \n",
      "8    95856.832424                   на проведение свадьбы  \n",
      "9   144425.938277                 покупка жилья для семьи  \n",
      "10  113943.491460                    покупка недвижимости  \n",
      "11   77069.234271       покупка коммерческой недвижимости  \n",
      "12            NaN                         сыграть свадьбу  \n",
      "13  130458.228857                 приобретение автомобиля  \n",
      "14  165127.911772              покупка жилой недвижимости  \n",
      "15  116820.904450  строительство собственной недвижимости  \n",
      "16  289202.704229                            недвижимость  \n",
      "17   90410.586745              строительство недвижимости  \n",
      "18   56823.777243      на покупку подержанного автомобиля  \n",
      "19  242831.107982            на покупку своего автомобиля  \n"
     ]
    }
   ],
   "source": [
    "#\n",
    "print(data.head(20))\n",
    "\n"
   ]
  },
  {
   "cell_type": "markdown",
   "id": "6f5c6e2a-f3f5-405d-a6cb-cefd94daedaf",
   "metadata": {},
   "source": [
    "**Задание 3. Выведите основную информацию о датафрейме с помощью метода `info()`.**\n",
    "\n"
   ]
  },
  {
   "cell_type": "code",
   "execution_count": 92,
   "id": "98f0067b-6809-4d75-95f1-783927277d78",
   "metadata": {},
   "outputs": [
    {
     "name": "stdout",
     "output_type": "stream",
     "text": [
      "<class 'pandas.core.frame.DataFrame'>\n",
      "RangeIndex: 21525 entries, 0 to 21524\n",
      "Data columns (total 12 columns):\n",
      " #   Column            Non-Null Count  Dtype  \n",
      "---  ------            --------------  -----  \n",
      " 0   children          21525 non-null  int64  \n",
      " 1   days_employed     19351 non-null  float64\n",
      " 2   dob_years         21525 non-null  int64  \n",
      " 3   education         21525 non-null  object \n",
      " 4   education_id      21525 non-null  int64  \n",
      " 5   family_status     21525 non-null  object \n",
      " 6   family_status_id  21525 non-null  int64  \n",
      " 7   gender            21525 non-null  object \n",
      " 8   income_type       21525 non-null  object \n",
      " 9   debt              21525 non-null  int64  \n",
      " 10  total_income      19351 non-null  float64\n",
      " 11  purpose           21525 non-null  object \n",
      "dtypes: float64(2), int64(5), object(5)\n",
      "memory usage: 2.0+ MB\n"
     ]
    }
   ],
   "source": [
    "#\n",
    "data.info()\n"
   ]
  },
  {
   "cell_type": "markdown",
   "id": "867049e8-567b-4a0f-a817-b90ff1ee227f",
   "metadata": {},
   "source": [
    "\n",
    "## Предобработка данных\n",
    "\n",
    "### Удаление пропусков\n",
    "\n",
    "**Задание 4. Выведите количество пропущенных значений для каждого столбца. Используйте комбинацию двух методов.**\n",
    "\n"
   ]
  },
  {
   "cell_type": "code",
   "execution_count": 93,
   "id": "423f10d0-b02f-4f36-96aa-621098307208",
   "metadata": {},
   "outputs": [
    {
     "name": "stdout",
     "output_type": "stream",
     "text": [
      "children               0\n",
      "days_employed       2174\n",
      "dob_years              0\n",
      "education              0\n",
      "education_id           0\n",
      "family_status          0\n",
      "family_status_id       0\n",
      "gender                 0\n",
      "income_type            0\n",
      "debt                   0\n",
      "total_income        2174\n",
      "purpose                0\n",
      "dtype: int64\n"
     ]
    }
   ],
   "source": [
    "#\n",
    "print(data.isna().sum())\n",
    "\n"
   ]
  },
  {
   "cell_type": "markdown",
   "id": "3a4a5cfa-df6c-4015-b876-608ec28296ae",
   "metadata": {},
   "source": [
    "**Задание 5. В двух столбцах есть пропущенные значения. Один из них — `days_employed`. Пропуски в этом столбце вы обработаете на следующем этапе. Другой столбец с пропущенными значениями — `total_income` — хранит данные о доходах. На сумму дохода сильнее всего влияет тип занятости, поэтому заполнить пропуски в этом столбце нужно медианным значением по каждому типу из столбца `income_type`. Например, у человека с типом занятости `сотрудник` пропуск в столбце `total_income` должен быть заполнен медианным доходом среди всех записей с тем же типом.**\n",
    "\n"
   ]
  },
  {
   "cell_type": "code",
   "execution_count": 94,
   "id": "5af54939-a032-433f-8685-2bab12050f88",
   "metadata": {},
   "outputs": [
    {
     "data": {
      "text/plain": [
       "0"
      ]
     },
     "execution_count": 94,
     "metadata": {},
     "output_type": "execute_result"
    }
   ],
   "source": [
    "#\n",
    "#Группируем данные по столбцу 'income_type' и высчитываем медианное значение данных о доходах(столбец `total_income`)\n",
    "#медианное значение доходов (столбец `total_income`) по каждой группе\n",
    "income_median = data.groupby('income_type')['total_income'].transform('median')\n",
    "# Заменяем пропуски медианным значением \n",
    "data['total_income'] = data['total_income'].fillna(income_median)\n",
    "# Проверим наличие пропущенных значений для столбца total_income\n",
    "data['total_income'].isna().sum()"
   ]
  },
  {
   "cell_type": "markdown",
   "id": "e994ea60-4425-4f84-aee6-baea6875b982",
   "metadata": {},
   "source": [
    "### Обработка аномальных значений\n",
    "\n",
    "**Задание 6. В данных могут встречаться артефакты (аномалии) — значения, которые не отражают действительность и появились по какой-то ошибке. Таким артефактом будет отрицательное количество дней трудового стажа в столбце `days_employed`. Для реальных данных это нормально. Обработайте значения в этом столбце: замените все отрицательные значения положительными с помощью метода `abs()`.**\n",
    "\n"
   ]
  },
  {
   "cell_type": "code",
   "execution_count": 95,
   "id": "06dbc7a9-e1c0-49f0-a1e1-02086a830729",
   "metadata": {},
   "outputs": [],
   "source": [
    "#\n",
    "data['days_employed'] = data['days_employed'].abs()\n",
    "\n"
   ]
  },
  {
   "cell_type": "markdown",
   "id": "689e3ef8-c862-43f4-a68a-f33b59ba8fac",
   "metadata": {},
   "source": [
    "**Задание 7. Для каждого типа занятости выведите медианное значение трудового стажа `days_employed` в днях.**\n",
    "\n"
   ]
  },
  {
   "cell_type": "code",
   "execution_count": 96,
   "id": "b0f663e7-5068-45e7-834e-0115c2f13c78",
   "metadata": {},
   "outputs": [
    {
     "name": "stdout",
     "output_type": "stream",
     "text": [
      "income_type\n",
      "безработный        366413.652744\n",
      "в декрете            3296.759962\n",
      "госслужащий          2689.368353\n",
      "компаньон            1547.382223\n",
      "пенсионер          365213.306266\n",
      "предприниматель       520.848083\n",
      "сотрудник            1574.202821\n",
      "студент               578.751554\n",
      "Name: days_employed, dtype: float64\n"
     ]
    }
   ],
   "source": [
    "#\n",
    "print(data.groupby('income_type')['days_employed'].median())\n",
    "\n"
   ]
  },
  {
   "cell_type": "markdown",
   "id": "27733aa6-1b51-4c6e-8268-a057e48875d6",
   "metadata": {},
   "source": [
    "У двух типов (безработные и пенсионеры) получатся аномально большие значения. Исправить такие значения сложно, поэтому оставьте их как есть.\n",
    "\n",
    "**Задание 8. Выведите перечень уникальных значений столбца `children`.**\n",
    "\n"
   ]
  },
  {
   "cell_type": "code",
   "execution_count": 97,
   "id": "ec8983f7-d6bf-464e-a952-b2c60912735e",
   "metadata": {},
   "outputs": [
    {
     "name": "stdout",
     "output_type": "stream",
     "text": [
      "[ 1  0  3  2 -1  4 20  5]\n"
     ]
    }
   ],
   "source": [
    "#\n",
    "print(data['children'].unique())\n",
    "\n"
   ]
  },
  {
   "cell_type": "markdown",
   "id": "4b1ffc56-e820-4274-9a8b-df3b8cc9607f",
   "metadata": {},
   "source": [
    "**Задание 9. В столбце `children` есть два аномальных значения. Удалите строки, в которых встречаются такие аномальные значения из датафрейма `data`.**\n",
    "\n"
   ]
  },
  {
   "cell_type": "code",
   "execution_count": 98,
   "id": "175e21a1-1d32-4ec5-8b9b-e321ef672ca1",
   "metadata": {},
   "outputs": [],
   "source": [
    "#\n",
    "data = data.loc[(data['children'] != 20)&(data['children'] != -1)]\n",
    "\n"
   ]
  },
  {
   "cell_type": "markdown",
   "id": "e3d8d524-9464-4852-a092-8bc296cf4465",
   "metadata": {},
   "source": [
    "**Задание 10. Ещё раз выведите перечень уникальных значений столбца `children`, чтобы убедиться, что артефакты удалены.**\n",
    "\n"
   ]
  },
  {
   "cell_type": "code",
   "execution_count": 99,
   "id": "9d64cefb-1ec9-4225-8a13-a8ce6810eead",
   "metadata": {},
   "outputs": [
    {
     "name": "stdout",
     "output_type": "stream",
     "text": [
      "[1 0 3 2 4 5]\n"
     ]
    }
   ],
   "source": [
    "#\n",
    "print(data['children'].unique())\n",
    "\n"
   ]
  },
  {
   "cell_type": "markdown",
   "id": "b04db3c6-2d65-4104-90a7-0dc1d5f5ab1f",
   "metadata": {},
   "source": [
    "### Удаление пропусков (продолжение)\n",
    "\n",
    "**Задание 11. Заполните пропуски в столбце `days_employed` медианными значениями по каждому типу занятости `income_type`.**\n",
    "\n"
   ]
  },
  {
   "cell_type": "code",
   "execution_count": 100,
   "id": "6f77a69e-8b4c-4c2d-b99a-08f5d9fa1d9b",
   "metadata": {},
   "outputs": [],
   "source": [
    "# Группируем данные по типу занятости(income_type) и расчитываем медианное значение трудового стажа для каждого типа\n",
    "days_employed_median = data.groupby('income_type')['days_employed'].transform('median')\n",
    "# Заполняем пропуски в столбце days_employed медианными значениями по каждому типу занятости\n",
    "data['days_employed'] = data['days_employed'].fillna(days_employed_median) \n"
   ]
  },
  {
   "cell_type": "markdown",
   "id": "a62e9f2a-4603-4bb3-9569-ca6b076ade18",
   "metadata": {},
   "source": [
    "**Задание 12. Убедитесь, что все пропуски заполнены. Проверьте себя и ещё раз выведите количество пропущенных значений для каждого столбца с помощью двух методов.**\n"
   ]
  },
  {
   "cell_type": "code",
   "execution_count": 101,
   "id": "0e255428-c53f-4208-82ee-a1311e044981",
   "metadata": {},
   "outputs": [
    {
     "name": "stdout",
     "output_type": "stream",
     "text": [
      "children            0\n",
      "days_employed       0\n",
      "dob_years           0\n",
      "education           0\n",
      "education_id        0\n",
      "family_status       0\n",
      "family_status_id    0\n",
      "gender              0\n",
      "income_type         0\n",
      "debt                0\n",
      "total_income        0\n",
      "purpose             0\n",
      "dtype: int64\n"
     ]
    }
   ],
   "source": [
    "print(data.isna().sum())\n",
    "\n"
   ]
  },
  {
   "cell_type": "markdown",
   "id": "66f2842e-2567-44c4-8f5b-eec39ea693fe",
   "metadata": {},
   "source": [
    "### Изменение типов данных\n",
    "\n",
    "**Задание 13. Замените вещественный тип данных в столбце `total_income` на целочисленный с помощью метода `astype()`.**\n",
    "\n"
   ]
  },
  {
   "cell_type": "code",
   "execution_count": 102,
   "id": "efbef25c-b042-4eb3-9095-a4f6518a0d92",
   "metadata": {},
   "outputs": [],
   "source": [
    "#\n",
    "data['total_income'] = data['total_income'].astype('int') \n",
    "\n"
   ]
  },
  {
   "cell_type": "markdown",
   "id": "b3e33286-4615-4fbd-b4e2-04034ae36d2d",
   "metadata": {},
   "source": [
    "### Обработка дубликатов\n",
    "\n",
    "**Задание 14. Обработайте неявные дубликаты в столбце `education`. В этом столбце есть одни и те же значения, но записанные по-разному: с использованием заглавных и строчных букв. Приведите их к нижнему регистру.**\n",
    "\n"
   ]
  },
  {
   "cell_type": "code",
   "execution_count": 103,
   "id": "f28c783d-8406-4299-ae73-e1325c59acd1",
   "metadata": {},
   "outputs": [],
   "source": [
    "#\n",
    "data['education'] = data['education'].str.lower()\n",
    "\n"
   ]
  },
  {
   "cell_type": "markdown",
   "id": "d1cfdcd5-e110-4fb7-8f6f-f683e08d9cc8",
   "metadata": {},
   "source": [
    "**Задание 15. Выведите на экран количество строк-дубликатов в данных. Если такие строки присутствуют, удалите их.**\n",
    "\n"
   ]
  },
  {
   "cell_type": "code",
   "execution_count": 104,
   "id": "fb9a4ef6-0873-4b71-b370-80e0cf438a3f",
   "metadata": {},
   "outputs": [
    {
     "name": "stdout",
     "output_type": "stream",
     "text": [
      "71\n"
     ]
    }
   ],
   "source": [
    "# посчитайте дубликаты\n",
    "print(data.duplicated().sum())\n",
    "\n"
   ]
  },
  {
   "cell_type": "code",
   "execution_count": 105,
   "id": "ef1d8f0b-7b01-4912-a79a-5aacc015120e",
   "metadata": {},
   "outputs": [],
   "source": [
    "# удалите дубликаты\n",
    "data = data.drop_duplicates()"
   ]
  },
  {
   "cell_type": "markdown",
   "id": "d98f6431-a0e7-4493-99b7-fb975726b612",
   "metadata": {},
   "source": [
    "### Категоризация данных\n",
    "\n",
    "**Задание 16. На основании диапазонов, указанных ниже, создайте в датафрейме `data` столбец `total_income_category` с категориями:**\n",
    "\n",
    "- 0–30000 — `'E'`;\n",
    "- 30001–50000 — `'D'`;\n",
    "- 50001–200000 — `'C'`;\n",
    "- 200001–1000000 — `'B'`;\n",
    "- 1000001 и выше — `'A'`.\n",
    "\n",
    "\n",
    "**Например, кредитополучателю с доходом 25000 нужно назначить категорию `'E'`, а клиенту, получающему 235000, — `'B'`. Используйте собственную функцию с именем `categorize_income()` и метод `apply()`.**\n",
    "\n"
   ]
  },
  {
   "cell_type": "code",
   "execution_count": 106,
   "id": "d1d68941-cc5b-4b4e-b3ac-ba634c7926de",
   "metadata": {},
   "outputs": [],
   "source": [
    "try:    \n",
    "    # создайте функцию categorize_income()\n",
    "    def categorize_income(row):\n",
    "        income = row['total_income']\n",
    "        if income <= 30000:\n",
    "            return \"E\"\n",
    "        if income <= 50000:\n",
    "            return \"D\"\n",
    "        if income <= 200000:\n",
    "            return \"C\"\n",
    "        if income <= 1000000:\n",
    "            return \"B\"\n",
    "        if income > 1000000:\n",
    "            return \"A\"\n",
    "except:\n",
    "    print('возникла ошибка') "
   ]
  },
  {
   "cell_type": "code",
   "execution_count": 107,
   "id": "e22ae5e4-8bfd-4345-a7c0-cfe3ae68ad84",
   "metadata": {},
   "outputs": [],
   "source": [
    "# примените функцию методом apply()\n",
    "data['total_income_category'] = data.apply(categorize_income, axis = 1)"
   ]
  },
  {
   "cell_type": "code",
   "execution_count": 108,
   "id": "3d2dfcce-560f-45f9-954a-fc08137e3c14",
   "metadata": {},
   "outputs": [
    {
     "data": {
      "text/plain": [
       "array(['B', 'C', 'D', 'E', 'A'], dtype=object)"
      ]
     },
     "execution_count": 108,
     "metadata": {},
     "output_type": "execute_result"
    }
   ],
   "source": [
    "# Проверим какие категории находятся в столбце total_income_category\n",
    "data['total_income_category'].unique()"
   ]
  },
  {
   "cell_type": "markdown",
   "id": "1d18aeea-1d32-4bbf-88d6-4de0aedac158",
   "metadata": {},
   "source": [
    "**Задание 17. Выведите на экран перечень уникальных целей взятия кредита из столбца `purpose`.**\n",
    "\n"
   ]
  },
  {
   "cell_type": "code",
   "execution_count": 109,
   "id": "f7c0b10b-ff6c-4ff7-a097-78e61224c227",
   "metadata": {},
   "outputs": [
    {
     "name": "stdout",
     "output_type": "stream",
     "text": [
      "['покупка жилья' 'приобретение автомобиля' 'дополнительное образование'\n",
      " 'сыграть свадьбу' 'операции с жильем' 'образование'\n",
      " 'на проведение свадьбы' 'покупка жилья для семьи' 'покупка недвижимости'\n",
      " 'покупка коммерческой недвижимости' 'покупка жилой недвижимости'\n",
      " 'строительство собственной недвижимости' 'недвижимость'\n",
      " 'строительство недвижимости' 'на покупку подержанного автомобиля'\n",
      " 'на покупку своего автомобиля' 'операции с коммерческой недвижимостью'\n",
      " 'строительство жилой недвижимости' 'жилье'\n",
      " 'операции со своей недвижимостью' 'автомобили' 'заняться образованием'\n",
      " 'сделка с подержанным автомобилем' 'получение образования' 'автомобиль'\n",
      " 'свадьба' 'получение дополнительного образования' 'покупка своего жилья'\n",
      " 'операции с недвижимостью' 'получение высшего образования'\n",
      " 'свой автомобиль' 'сделка с автомобилем' 'профильное образование'\n",
      " 'высшее образование' 'покупка жилья для сдачи' 'на покупку автомобиля'\n",
      " 'ремонт жилью' 'заняться высшим образованием']\n"
     ]
    }
   ],
   "source": [
    "print(data['purpose'].unique())"
   ]
  },
  {
   "cell_type": "markdown",
   "id": "90e76d34-c0cd-432f-aa78-462693d5eca1",
   "metadata": {},
   "source": [
    "**Задание 18. Создайте функцию, которая на основании данных из столбца `purpose` сформирует новый столбец `purpose_category`, в который войдут следующие категории:**\n",
    "\n",
    "- `'операции с автомобилем'`,\n",
    "- `'операции с недвижимостью'`,\n",
    "- `'проведение свадьбы'`,\n",
    "- `'получение образования'`.\n",
    "\n",
    "**Например, если в столбце `purpose` находится подстрока `'на покупку автомобиля'`, то в столбце `purpose_category` должна появиться строка `'операции с автомобилем'`.**\n",
    "\n",
    "**Используйте собственную функцию с именем `categorize_purpose()` и метод `apply()`. Изучите данные в столбце `purpose` и определите, какие подстроки помогут вам правильно определить категорию.**\n",
    "\n"
   ]
  },
  {
   "cell_type": "code",
   "execution_count": 110,
   "id": "a8a9280d-5daa-428f-af73-26613920d056",
   "metadata": {},
   "outputs": [],
   "source": [
    "# создайте функцию categorize_purpose()\n",
    "def categorize_purpose(row):\n",
    "    purpose = row['purpose']\n",
    "    if 'авто' in purpose:\n",
    "        return 'операции с автомобилем'\n",
    "    elif 'жил' in purpose or 'недв' in purpose:\n",
    "        return 'операции с недвижимостью'\n",
    "    elif 'свад' in purpose:\n",
    "        return 'проведение свадьбы'\n",
    "    elif 'образов' in purpose:\n",
    "        return 'получение образования'\n",
    "    else:\n",
    "        return 'категория не присвоена'\n",
    "    "
   ]
  },
  {
   "cell_type": "code",
   "execution_count": 111,
   "id": "c6736fe0-3c43-4617-bc10-6246dad2fc44",
   "metadata": {},
   "outputs": [],
   "source": [
    "# примените функцию методом apply()\n",
    "data['purpose_category'] = data.apply(categorize_purpose, axis = 1)"
   ]
  },
  {
   "cell_type": "code",
   "execution_count": 112,
   "id": "769e445c-c34f-479b-aa1c-fc25739ff4e4",
   "metadata": {},
   "outputs": [
    {
     "name": "stdout",
     "output_type": "stream",
     "text": [
      "['операции с недвижимостью' 'операции с автомобилем'\n",
      " 'получение образования' 'проведение свадьбы']\n"
     ]
    }
   ],
   "source": [
    "# Проверим перечень уникальных категорий в столбце purpose_category, определим всем ли строкам присвоена категория\n",
    "print(data['purpose_category'].unique())"
   ]
  },
  {
   "cell_type": "markdown",
   "id": "5cab966f-352f-4881-a7ba-db83160570cd",
   "metadata": {},
   "source": [
    "**Так как значение ``'категория не присвоена'`` отсутствует, можно сделать вывод, что карегории были присвоены всем данным из столбца ``purpose``**\n",
    "\n",
    "### Шаг 3. Исследуйте данные и ответьте на вопросы\n",
    "\n",
    "#### 3.1 Есть ли зависимость между количеством детей и возвратом кредита в срок?\n",
    "\n",
    "**Определим сколько должников имеет детей, а у какого количества их нет и посчитаем процент должников от общего числа заемщиков. Для наглядности даных сформируем сводную таблицу**"
   ]
  },
  {
   "cell_type": "code",
   "execution_count": 113,
   "id": "2f0e5717-5dbe-4fbd-af4c-8c96c52861fa",
   "metadata": {},
   "outputs": [],
   "source": [
    "# Создадим столбец children_category с категориями семей: \"бездетные семьи\" и \"семьи с детьми\",\n",
    "# используя функцию categorize_children\n",
    "\n",
    "def categorize_children(row):\n",
    "    if row['children'] == 0:\n",
    "        return \"бездетные семьи\"\n",
    "    if row['children'] == 1:\n",
    "        return \"семьи с одним ребенком\"\n",
    "    if row['children'] == 2:\n",
    "        return \"семьи с двумя детьми\"\n",
    "    if row['children'] > 2:\n",
    "        return \"многодетные семьи\"    \n",
    "    \n",
    "    \n",
    "data['children_category'] = data.apply(categorize_children, axis=1)\n",
    "\n",
    "\n",
    "# Создадим столбец debt_category с категориями семей: \"Семьи без задолженности\" и \"Семьи с задолженностью\",\n",
    "# с помощью функции categorize_debt\n",
    "def categorize_debt(row):\n",
    "    if row['debt'] == 0:\n",
    "        return 'Заёмщики без задолженности'\n",
    "    if row['debt'] != 0:\n",
    "        return 'Заёмщики с задолженностью'\n",
    "    \n",
    "data['debt_category'] = data.apply(categorize_debt, axis=1)\n",
    "\n",
    "# Представим данные в сводной таблице\n",
    "# Создадим функцию, которая будет создавать сводную таблицу по заданной категории\n",
    "# и производить дополнительные расчеты в сводной таблице\n",
    "\n",
    "def df_pivot(categori):\n",
    "# Создадим сводную таблицу   \n",
    "    df = data.pivot_table(index= categori, \n",
    "                              columns='debt_category',\n",
    "                              values='debt', \n",
    "                              aggfunc='count')\n",
    "# Рассчитаем общее количество заемщиков\n",
    "    df['Всего'] = df['Заёмщики без задолженности'] +    \\\n",
    "                              df['Заёмщики с задолженностью']\n",
    "    \n",
    "# Рассчитаем процент должников от общего количества заемщиков, округлив число до целых и поменяв его тип на целые числа     \n",
    "    df['% должников от общего числа'] =(round((df['Заёмщики с задолженностью'] /   \\\n",
    "                                                   df['Всего']* 100),2))\n",
    "# Возвращаем сводную таблицу, с сортировкой по убыванию % должников от общего числа заемщиков    \n",
    "    return df.sort_values('% должников от общего числа',ascending=False)"
   ]
  },
  {
   "cell_type": "code",
   "execution_count": 114,
   "id": "7999428f-2d0e-4116-9dce-dc2cffb59ace",
   "metadata": {},
   "outputs": [
    {
     "data": {
      "text/html": [
       "<div>\n",
       "<style scoped>\n",
       "    .dataframe tbody tr th:only-of-type {\n",
       "        vertical-align: middle;\n",
       "    }\n",
       "\n",
       "    .dataframe tbody tr th {\n",
       "        vertical-align: top;\n",
       "    }\n",
       "\n",
       "    .dataframe thead th {\n",
       "        text-align: right;\n",
       "    }\n",
       "</style>\n",
       "<table border=\"1\" class=\"dataframe\">\n",
       "  <thead>\n",
       "    <tr style=\"text-align: right;\">\n",
       "      <th>debt_category</th>\n",
       "      <th>Заёмщики без задолженности</th>\n",
       "      <th>Заёмщики с задолженностью</th>\n",
       "      <th>Всего</th>\n",
       "      <th>% должников от общего числа</th>\n",
       "    </tr>\n",
       "    <tr>\n",
       "      <th>children_category</th>\n",
       "      <th></th>\n",
       "      <th></th>\n",
       "      <th></th>\n",
       "      <th></th>\n",
       "    </tr>\n",
       "  </thead>\n",
       "  <tbody>\n",
       "    <tr>\n",
       "      <th>семьи с двумя детьми</th>\n",
       "      <td>1858</td>\n",
       "      <td>194</td>\n",
       "      <td>2052</td>\n",
       "      <td>9.45</td>\n",
       "    </tr>\n",
       "    <tr>\n",
       "      <th>семьи с одним ребенком</th>\n",
       "      <td>4364</td>\n",
       "      <td>444</td>\n",
       "      <td>4808</td>\n",
       "      <td>9.23</td>\n",
       "    </tr>\n",
       "    <tr>\n",
       "      <th>многодетные семьи</th>\n",
       "      <td>349</td>\n",
       "      <td>31</td>\n",
       "      <td>380</td>\n",
       "      <td>8.16</td>\n",
       "    </tr>\n",
       "    <tr>\n",
       "      <th>бездетные семьи</th>\n",
       "      <td>13028</td>\n",
       "      <td>1063</td>\n",
       "      <td>14091</td>\n",
       "      <td>7.54</td>\n",
       "    </tr>\n",
       "  </tbody>\n",
       "</table>\n",
       "</div>"
      ],
      "text/plain": [
       "debt_category           Заёмщики без задолженности  Заёмщики с задолженностью  \\\n",
       "children_category                                                               \n",
       "семьи с двумя детьми                          1858                        194   \n",
       "семьи с одним ребенком                        4364                        444   \n",
       "многодетные семьи                              349                         31   \n",
       "бездетные семьи                              13028                       1063   \n",
       "\n",
       "debt_category           Всего  % должников от общего числа  \n",
       "children_category                                           \n",
       "семьи с двумя детьми     2052                         9.45  \n",
       "семьи с одним ребенком   4808                         9.23  \n",
       "многодетные семьи         380                         8.16  \n",
       "бездетные семьи         14091                         7.54  "
      ]
     },
     "execution_count": 114,
     "metadata": {},
     "output_type": "execute_result"
    }
   ],
   "source": [
    "# Строим сводную таблицу, с разбивкой по категориям столбца children_category\n",
    "df_pivot('children_category')"
   ]
  },
  {
   "cell_type": "markdown",
   "id": "0b50422e-6026-43d3-95cc-c485aabed54d",
   "metadata": {},
   "source": [
    "**Вывод:**"
   ]
  },
  {
   "cell_type": "markdown",
   "id": "56aeb59f-3ac8-4b7e-8339-619dd0e887ab",
   "metadata": {},
   "source": [
    " **Процент семей-должников *`с одним или двумя детьми`* незначительно выше, чем семей-должников *`без детей`* и *`многодетных семей`*. При этом следует отметить, что семьи с детьми берут кредиты реже в 2 раза**"
   ]
  },
  {
   "cell_type": "markdown",
   "id": "26fc2883-c6b3-45e2-b875-02f7a2f66fd6",
   "metadata": {},
   "source": [
    "#### 3.2 Есть ли зависимость между семейным положением и возвратом кредита в срок?"
   ]
  },
  {
   "cell_type": "code",
   "execution_count": 115,
   "id": "cb14502f-33de-4851-8296-e04de1d100bc",
   "metadata": {},
   "outputs": [
    {
     "data": {
      "text/plain": [
       "array(['женат / замужем', 'гражданский брак', 'вдовец / вдова',\n",
       "       'в разводе', 'Не женат / не замужем'], dtype=object)"
      ]
     },
     "execution_count": 115,
     "metadata": {},
     "output_type": "execute_result"
    }
   ],
   "source": [
    "# Посмотрим какие уникальные значения имеет столбец family_status\n",
    "data['family_status'].unique()"
   ]
  },
  {
   "cell_type": "code",
   "execution_count": 116,
   "id": "14fa628a-71ca-4a3b-b006-2a279c573ec1",
   "metadata": {},
   "outputs": [
    {
     "data": {
      "text/html": [
       "<div>\n",
       "<style scoped>\n",
       "    .dataframe tbody tr th:only-of-type {\n",
       "        vertical-align: middle;\n",
       "    }\n",
       "\n",
       "    .dataframe tbody tr th {\n",
       "        vertical-align: top;\n",
       "    }\n",
       "\n",
       "    .dataframe thead th {\n",
       "        text-align: right;\n",
       "    }\n",
       "</style>\n",
       "<table border=\"1\" class=\"dataframe\">\n",
       "  <thead>\n",
       "    <tr style=\"text-align: right;\">\n",
       "      <th>debt_category</th>\n",
       "      <th>Заёмщики без задолженности</th>\n",
       "      <th>Заёмщики с задолженностью</th>\n",
       "      <th>Всего</th>\n",
       "      <th>% должников от общего числа</th>\n",
       "    </tr>\n",
       "    <tr>\n",
       "      <th>family_status</th>\n",
       "      <th></th>\n",
       "      <th></th>\n",
       "      <th></th>\n",
       "      <th></th>\n",
       "    </tr>\n",
       "  </thead>\n",
       "  <tbody>\n",
       "    <tr>\n",
       "      <th>Не женат / не замужем</th>\n",
       "      <td>2523</td>\n",
       "      <td>273</td>\n",
       "      <td>2796</td>\n",
       "      <td>9.76</td>\n",
       "    </tr>\n",
       "    <tr>\n",
       "      <th>гражданский брак</th>\n",
       "      <td>3749</td>\n",
       "      <td>385</td>\n",
       "      <td>4134</td>\n",
       "      <td>9.31</td>\n",
       "    </tr>\n",
       "    <tr>\n",
       "      <th>женат / замужем</th>\n",
       "      <td>11334</td>\n",
       "      <td>927</td>\n",
       "      <td>12261</td>\n",
       "      <td>7.56</td>\n",
       "    </tr>\n",
       "    <tr>\n",
       "      <th>в разводе</th>\n",
       "      <td>1105</td>\n",
       "      <td>84</td>\n",
       "      <td>1189</td>\n",
       "      <td>7.06</td>\n",
       "    </tr>\n",
       "    <tr>\n",
       "      <th>вдовец / вдова</th>\n",
       "      <td>888</td>\n",
       "      <td>63</td>\n",
       "      <td>951</td>\n",
       "      <td>6.62</td>\n",
       "    </tr>\n",
       "  </tbody>\n",
       "</table>\n",
       "</div>"
      ],
      "text/plain": [
       "debt_category          Заёмщики без задолженности  Заёмщики с задолженностью  \\\n",
       "family_status                                                                  \n",
       "Не женат / не замужем                        2523                        273   \n",
       "гражданский брак                             3749                        385   \n",
       "женат / замужем                             11334                        927   \n",
       "в разводе                                    1105                         84   \n",
       "вдовец / вдова                                888                         63   \n",
       "\n",
       "debt_category          Всего  % должников от общего числа  \n",
       "family_status                                              \n",
       "Не женат / не замужем   2796                         9.76  \n",
       "гражданский брак        4134                         9.31  \n",
       "женат / замужем        12261                         7.56  \n",
       "в разводе               1189                         7.06  \n",
       "вдовец / вдова           951                         6.62  "
      ]
     },
     "execution_count": 116,
     "metadata": {},
     "output_type": "execute_result"
    }
   ],
   "source": [
    "# Построим сводную таблицу с разбивкой заемщиков по семейному положению и учету отсутствия или наличия задолженности,\n",
    "# используя функцию df_pivot\n",
    "df_pivot('family_status')"
   ]
  },
  {
   "cell_type": "markdown",
   "id": "27d8fe92-7437-4112-a3ce-3ec1af8c6b7e",
   "metadata": {},
   "source": [
    "**Вывод:** \n",
    "\n",
    "**Таблица наглядно показывает, что зависимость между семейным положением и возвратом кредита в срок имеется. Самый большой процент невозврата - *`у неженатых и незамужних людей (10%)`*. При этом, заемщики, находящиеся в *`официальном браке`*, берут кредиты значительно чаще одиноких людей.**"
   ]
  },
  {
   "cell_type": "markdown",
   "id": "e8df0a64-f4c1-4c5e-b9e9-1e745b887dc9",
   "metadata": {},
   "source": [
    "#### 3.3 Есть ли зависимость между уровнем дохода и возвратом кредита в срок?"
   ]
  },
  {
   "cell_type": "code",
   "execution_count": 117,
   "id": "a7101b42-74a4-4d18-8fe2-3d5e32ea146a",
   "metadata": {},
   "outputs": [
    {
     "data": {
      "text/html": [
       "<div>\n",
       "<style scoped>\n",
       "    .dataframe tbody tr th:only-of-type {\n",
       "        vertical-align: middle;\n",
       "    }\n",
       "\n",
       "    .dataframe tbody tr th {\n",
       "        vertical-align: top;\n",
       "    }\n",
       "\n",
       "    .dataframe thead th {\n",
       "        text-align: right;\n",
       "    }\n",
       "</style>\n",
       "<table border=\"1\" class=\"dataframe\">\n",
       "  <thead>\n",
       "    <tr style=\"text-align: right;\">\n",
       "      <th>debt_category</th>\n",
       "      <th>Заёмщики без задолженности</th>\n",
       "      <th>Заёмщики с задолженностью</th>\n",
       "      <th>Всего</th>\n",
       "      <th>% должников от общего числа</th>\n",
       "    </tr>\n",
       "    <tr>\n",
       "      <th>total_income_category</th>\n",
       "      <th></th>\n",
       "      <th></th>\n",
       "      <th></th>\n",
       "      <th></th>\n",
       "    </tr>\n",
       "  </thead>\n",
       "  <tbody>\n",
       "    <tr>\n",
       "      <th>E</th>\n",
       "      <td>20</td>\n",
       "      <td>2</td>\n",
       "      <td>22</td>\n",
       "      <td>9.09</td>\n",
       "    </tr>\n",
       "    <tr>\n",
       "      <th>C</th>\n",
       "      <td>14568</td>\n",
       "      <td>1353</td>\n",
       "      <td>15921</td>\n",
       "      <td>8.50</td>\n",
       "    </tr>\n",
       "    <tr>\n",
       "      <th>A</th>\n",
       "      <td>23</td>\n",
       "      <td>2</td>\n",
       "      <td>25</td>\n",
       "      <td>8.00</td>\n",
       "    </tr>\n",
       "    <tr>\n",
       "      <th>B</th>\n",
       "      <td>4660</td>\n",
       "      <td>354</td>\n",
       "      <td>5014</td>\n",
       "      <td>7.06</td>\n",
       "    </tr>\n",
       "    <tr>\n",
       "      <th>D</th>\n",
       "      <td>328</td>\n",
       "      <td>21</td>\n",
       "      <td>349</td>\n",
       "      <td>6.02</td>\n",
       "    </tr>\n",
       "  </tbody>\n",
       "</table>\n",
       "</div>"
      ],
      "text/plain": [
       "debt_category          Заёмщики без задолженности  Заёмщики с задолженностью  \\\n",
       "total_income_category                                                          \n",
       "E                                              20                          2   \n",
       "C                                           14568                       1353   \n",
       "A                                              23                          2   \n",
       "B                                            4660                        354   \n",
       "D                                             328                         21   \n",
       "\n",
       "debt_category          Всего  % должников от общего числа  \n",
       "total_income_category                                      \n",
       "E                         22                         9.09  \n",
       "C                      15921                         8.50  \n",
       "A                         25                         8.00  \n",
       "B                       5014                         7.06  \n",
       "D                        349                         6.02  "
      ]
     },
     "execution_count": 117,
     "metadata": {},
     "output_type": "execute_result"
    }
   ],
   "source": [
    "# Построим сводную таблицу с разбивкой по уровню дохода и учету отсутствия или наличия задолженности\n",
    "df_pivot('total_income_category')\n"
   ]
  },
  {
   "cell_type": "markdown",
   "id": "b4e2927d-a6ec-460b-b552-953b22a53547",
   "metadata": {},
   "source": [
    "**Вывод:** \n",
    "\n",
    "**Ожидаемо, самый большой процент *(9%)* невозврата оказался у заёмщиков с доходом категории *`E, (доход до 30 000)`*, но эта группа является малочисленной, как и группа заёмщиков с самым высоким доходом *`(А, доход от 1 000 000 и выше)`* и соответственно не может отражать общую тенденцию**\n",
    "\n",
    "**Если сравнивать две наиболее многочисленные группы - *`С, с доходом от 50 001 до 200 000`* и *`В, с доходом от 200 001 до 1 000 000`*, то можно заметить, что заемщики, имеющие более высокий уровень дохода *`(категория В)`*, чаще возвращают кредиты в срок.**"
   ]
  },
  {
   "cell_type": "markdown",
   "id": "5e835378-5276-4e05-921c-d13b00e7ed71",
   "metadata": {},
   "source": [
    "#### 3.4 Как разные цели кредита влияют на его возврат в срок?\n",
    "\n"
   ]
  },
  {
   "cell_type": "code",
   "execution_count": 118,
   "id": "a09366db-16a6-4811-ac1b-9f99476123a5",
   "metadata": {},
   "outputs": [
    {
     "data": {
      "text/html": [
       "<div>\n",
       "<style scoped>\n",
       "    .dataframe tbody tr th:only-of-type {\n",
       "        vertical-align: middle;\n",
       "    }\n",
       "\n",
       "    .dataframe tbody tr th {\n",
       "        vertical-align: top;\n",
       "    }\n",
       "\n",
       "    .dataframe thead th {\n",
       "        text-align: right;\n",
       "    }\n",
       "</style>\n",
       "<table border=\"1\" class=\"dataframe\">\n",
       "  <thead>\n",
       "    <tr style=\"text-align: right;\">\n",
       "      <th>debt_category</th>\n",
       "      <th>Заёмщики без задолженности</th>\n",
       "      <th>Заёмщики с задолженностью</th>\n",
       "      <th>Всего</th>\n",
       "      <th>% должников от общего числа</th>\n",
       "    </tr>\n",
       "    <tr>\n",
       "      <th>purpose_category</th>\n",
       "      <th></th>\n",
       "      <th></th>\n",
       "      <th></th>\n",
       "      <th></th>\n",
       "    </tr>\n",
       "  </thead>\n",
       "  <tbody>\n",
       "    <tr>\n",
       "      <th>операции с автомобилем</th>\n",
       "      <td>3879</td>\n",
       "      <td>400</td>\n",
       "      <td>4279</td>\n",
       "      <td>9.35</td>\n",
       "    </tr>\n",
       "    <tr>\n",
       "      <th>получение образования</th>\n",
       "      <td>3619</td>\n",
       "      <td>369</td>\n",
       "      <td>3988</td>\n",
       "      <td>9.25</td>\n",
       "    </tr>\n",
       "    <tr>\n",
       "      <th>проведение свадьбы</th>\n",
       "      <td>2130</td>\n",
       "      <td>183</td>\n",
       "      <td>2313</td>\n",
       "      <td>7.91</td>\n",
       "    </tr>\n",
       "    <tr>\n",
       "      <th>операции с недвижимостью</th>\n",
       "      <td>9971</td>\n",
       "      <td>780</td>\n",
       "      <td>10751</td>\n",
       "      <td>7.26</td>\n",
       "    </tr>\n",
       "  </tbody>\n",
       "</table>\n",
       "</div>"
      ],
      "text/plain": [
       "debt_category             Заёмщики без задолженности  \\\n",
       "purpose_category                                       \n",
       "операции с автомобилем                          3879   \n",
       "получение образования                           3619   \n",
       "проведение свадьбы                              2130   \n",
       "операции с недвижимостью                        9971   \n",
       "\n",
       "debt_category             Заёмщики с задолженностью  Всего  \\\n",
       "purpose_category                                             \n",
       "операции с автомобилем                          400   4279   \n",
       "получение образования                           369   3988   \n",
       "проведение свадьбы                              183   2313   \n",
       "операции с недвижимостью                        780  10751   \n",
       "\n",
       "debt_category             % должников от общего числа  \n",
       "purpose_category                                       \n",
       "операции с автомобилем                           9.35  \n",
       "получение образования                            9.25  \n",
       "проведение свадьбы                               7.91  \n",
       "операции с недвижимостью                         7.26  "
      ]
     },
     "execution_count": 118,
     "metadata": {},
     "output_type": "execute_result"
    }
   ],
   "source": [
    "# Построим сводную таблицу с разбивкой по целям кредита и учету отсутствия или наличия задолженности\n",
    "df_pivot('purpose_category')"
   ]
  },
  {
   "cell_type": "markdown",
   "id": "1d5d22f8-080a-406c-99a3-684f71091134",
   "metadata": {},
   "source": [
    "**Вывод:** \n",
    "\n",
    "**Чаще всего кредиты берутся для *`операций с недвижимостью`* и при этом уровень невозврата займов с такой целью самый низкий *`(7.26%)`*** \n",
    "**По кредитам на *`операции с автомобилем`* и *`получение образования`* наиболее высокий уровень невозврата займов *`(9.35 и 9.25 соответственно%)`***\n",
    "\n",
    "**Следует отметить, что, как и в предыдущих сравнениях задолженников различных категорий, разница между процентаими невозврата кредитов низкая.**\n",
    "\n",
    "\n",
    "#### 3.5 Приведите возможные причины появления пропусков в исходных данных.\n",
    "\n",
    "*Ответ:* \n",
    "Так как имелось равное количество пропусков в двух столбцах `days_employed` и `total_income`, можно предположить что произошел сбой при внеесении в базу или выгрузке данных\n",
    "\n",
    "\n",
    "#### 3.6 Объясните, почему заполнить пропуски медианным значением — лучшее решение для количественных переменных.\n",
    "\n",
    "*Ответ:* Так как в данных столбцов `days_employed` и `total_income` встречались аномально большие значения, выборка  не была равномерной, то наиболее подходящим для заполнения было именно *медианное значение*.\n",
    "\n",
    "\n",
    "### Шаг 4: общий вывод.\n",
    "\n",
    "**В ходе работы требовалось разобраться, влияет ли семейное положение и количество детей клиента на факт погашения кредита в срок. Были получены входные данные от банка — статистика о платёжеспособности клиентов.**\n",
    "\n",
    "**Перед анализом данных и проверкой гипотез была проведена предобработка данных.\n",
    "Предобработка обнаружила следуюшие проблемы в данных:**\n",
    "- Пропуски в данных столбцов `days_employed` и `total_income`, которые в ходе предобработки были заполнены медианными значениями. Отсутствие информации возможно было вызвано ошибкой при выгрузке данных, или по какой-то причине не была внесена в базу данных;\n",
    "- Были изменены отрицательные значения в столбце `days_employed` с помощью модуля;\n",
    "- Обработаны неявные дубликаты в столбце `education` с помощью приведения данных к нижнему регистру;\n",
    "- Заменен вещественный тип данных в столбце `total_income` на целочисленный;\n",
    "- Были удалены дубликаты строк\n",
    "- Была произведена категоризация данных о доходах заёмщиков и их целях взятия кредитов \n",
    "\n",
    "**При анализе данных по кредитам были сделаны следующие выводы:**\n",
    " - Было определено что процент невозврата кредитов `семей-должников с детьми` выше, чем `семей-должников без детей`. При этом, разница между ними незначительна. Так же следует отметить, что `семьи с детьми` берут кредиты реже в 2 раза, чем `семьи без детей`.\n",
    " - Была найдена зависимость между семейным положением и возвратом кредита в срок. Самый большой процент невозврата - у `неженатых и незамужних людей (10%)`. При этом, заемщики, находящиеся в официальном браке, берут кредиты значительно чаще одиноких людей.\n",
    " - Так же подтвердилась гипотеза о зависимости дохода заёмщиков и возврате ими кредита в срок. Заемщики, имеющие более высокий уровень дохода *`(категория В с доходом от 200 001 до 1 000 000)`*, чаще возвращают кредиты в срок. \n",
    " - Различные цели кредита так же влияют на возврат его в срок. Чаще всего кредиты берутся для `операций с недвижимостью` и при этом уровень невозврата займов с такой целью самый низкий (7.26%) По кредитам на `операции с автомобилем` и `получение образования` наиболее высокий уровень невозврата займов (9.35 и 9.25 соответственно%)\n",
    " \n",
    " Так как первоначальные данные имели ряд несовершенств, можно порекоммендовать банку проверить технические проблемы, все ли данные попадают в выгрузку, и сделать обязательные поля для заполнения, чтобы исключить человеческий фактор. Поскольку в данных о количестве отработанных дней имелись отрицательные значения, можно технически ограничить ввод данных исключительно неотрицательными целыми числами. А для исключения неявных повторов в целях взятия кредита, можно предусмотреть выбор из готового списка целей."
   ]
  },
  {
   "cell_type": "code",
   "execution_count": null,
   "id": "52abc7c2-1b5b-4b79-8e44-087d93db4ddd",
   "metadata": {},
   "outputs": [],
   "source": []
  }
 ],
 "metadata": {
  "kernelspec": {
   "display_name": "Python 3 (ipykernel)",
   "language": "python",
   "name": "python3"
  },
  "language_info": {
   "codemirror_mode": {
    "name": "ipython",
    "version": 3
   },
   "file_extension": ".py",
   "mimetype": "text/x-python",
   "name": "python",
   "nbconvert_exporter": "python",
   "pygments_lexer": "ipython3",
   "version": "3.9.5"
  },
  "toc-autonumbering": false
 },
 "nbformat": 4,
 "nbformat_minor": 5
}
